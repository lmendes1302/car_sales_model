{
 "cells": [
  {
   "cell_type": "markdown",
   "metadata": {},
   "source": [
    "## Data Science Challenge - Auto1\n",
    "\n",
    "### Question 1:\n",
    "\n",
    "<b>Use case 1:</b> Auto1 receive car information of various clients from 30 different countries where each car owner has a different perception of how much his car values. Auto1, however needs a value definition based on the car characteristics. Therefore creating a machine learning solution to infer the car price based on its features would be of great value.\n",
    "\n",
    "<b>Use case 2:</b> Based on the client’s profile, create a recommendation solution which suggests similar cars with more affordable prices.\n",
    "\n",
    "<b>Use case 3:</b>  Thinking about improving the internal process for car evaluation, define a automated solution that classifies cars based on its fuel consumption.\n",
    "\n",
    "<b>Use case 4:</b> Based on the car brand history, a solution that can classify if a car was altered or not. This could help to define a risk indicator for the car as well as defining its price."
   ]
  },
  {
   "cell_type": "markdown",
   "metadata": {},
   "source": [
    "### Question 2:\n",
    "\n",
    "<b>Use case 1</b>\n",
    "\n"
   ]
  },
  {
   "cell_type": "code",
   "execution_count": 1,
   "metadata": {},
   "outputs": [],
   "source": [
    "import pandas as pd\n",
    "import numpy as np\n",
    "from word2number import w2n"
   ]
  },
  {
   "cell_type": "code",
   "execution_count": 2,
   "metadata": {},
   "outputs": [],
   "source": [
    "import matplotlib.pyplot as plt"
   ]
  },
  {
   "cell_type": "code",
   "execution_count": 3,
   "metadata": {},
   "outputs": [],
   "source": [
    "data = pd.read_csv('../data/data.csv')"
   ]
  },
  {
   "cell_type": "code",
   "execution_count": 4,
   "metadata": {},
   "outputs": [
    {
     "data": {
      "text/plain": [
       "Index(['symboling', 'normalized-losses', 'make', 'fuel-type', 'aspiration',\n",
       "       'num-of-doors', 'body-style', 'drive-wheels', 'engine-location',\n",
       "       'wheel-base', 'length', 'width', 'height', 'curb-weight', 'engine-type',\n",
       "       'num-of-cylinders', 'engine-size', 'fuel-system', 'bore', 'stroke',\n",
       "       'compression-ratio', 'horsepower', 'peak-rpm', 'city-mpg',\n",
       "       'highway-mpg', 'price'],\n",
       "      dtype='object')"
      ]
     },
     "execution_count": 4,
     "metadata": {},
     "output_type": "execute_result"
    }
   ],
   "source": [
    "data.columns"
   ]
  },
  {
   "cell_type": "markdown",
   "metadata": {},
   "source": [
    "### Preprocessing"
   ]
  },
  {
   "cell_type": "code",
   "execution_count": 5,
   "metadata": {},
   "outputs": [],
   "source": [
    "#Some features are continuous, however they are set as strings. Need to change that.\n",
    "def str_to_float(value):\n",
    "    if value == '?':\n",
    "        return None\n",
    "    else:\n",
    "        return float(value)\n",
    "    \n",
    "def drop_question_mark(value):\n",
    "    if value == '?':\n",
    "        return None\n",
    "    else:\n",
    "        return value\n",
    "    "
   ]
  },
  {
   "cell_type": "code",
   "execution_count": 6,
   "metadata": {},
   "outputs": [],
   "source": [
    "data['price'] = data['price'].apply(lambda p: str_to_float(p))\n",
    "data['normalized-losses'] = data['normalized-losses'].apply(lambda p: str_to_float(p))\n",
    "data['num-of-doors'] = data['num-of-doors'].apply(lambda p: drop_question_mark(p))\n",
    "data['peak-rpm'] = data['peak-rpm'].apply(lambda p: str_to_float(p))\n",
    "data['horsepower'] = data['horsepower'].apply(lambda p: str_to_float(p))\n",
    "data['stroke'] = data['stroke'].apply(lambda p: str_to_float(p))\n",
    "data['bore'] = data['bore'].apply(lambda p: str_to_float(p))\n",
    "data['num-of-cylinders'] = data['num-of-cylinders'].apply(lambda p: w2n.word_to_num(p))"
   ]
  },
  {
   "cell_type": "markdown",
   "metadata": {},
   "source": [
    "## What are the features that is important for a client to buy a car?\n",
    "- Car brand\n",
    "- fuel-system\n",
    "- horsepower\n",
    "- city/highway mpg\n",
    "- num-of-cylinders\n",
    "- num-of-doors\n",
    "- body-style\n",
    "- aspiration\n",
    "- engine-type\n",
    "- drive-wheels\n",
    "- price\n",
    "- fuel-type\n",
    "- car devaluation\n",
    "- Car risk"
   ]
  },
  {
   "cell_type": "markdown",
   "metadata": {},
   "source": [
    "Many features that could be important to infer the car prices are categorical. One way to deal with it is use a encodig method to transform categorical vaiables to numeric ones."
   ]
  },
  {
   "cell_type": "code",
   "execution_count": 7,
   "metadata": {},
   "outputs": [],
   "source": [
    "#One Hot Encoding\n",
    "from sklearn.preprocessing import OneHotEncoder"
   ]
  },
  {
   "cell_type": "code",
   "execution_count": 8,
   "metadata": {},
   "outputs": [],
   "source": [
    "ohe = OneHotEncoder()"
   ]
  },
  {
   "cell_type": "code",
   "execution_count": 136,
   "metadata": {},
   "outputs": [],
   "source": [
    "data2 = data[['make', 'aspiration', 'num-of-doors', 'normalized-losses',\n",
    "              'body-style', 'num-of-cylinders',\n",
    "              'horsepower', 'city-mpg', 'highway-mpg', 'price',\n",
    "              'fuel-system', 'engine-type', 'drive-wheels',\n",
    "              'fuel-type']].dropna()"
   ]
  },
  {
   "cell_type": "code",
   "execution_count": 137,
   "metadata": {},
   "outputs": [
    {
     "data": {
      "text/plain": [
       "(163, 14)"
      ]
     },
     "execution_count": 137,
     "metadata": {},
     "output_type": "execute_result"
    }
   ],
   "source": [
    "data2.shape"
   ]
  },
  {
   "cell_type": "code",
   "execution_count": 138,
   "metadata": {},
   "outputs": [],
   "source": [
    "data_ohe = ohe.fit_transform(data2.drop('price', axis = 1))"
   ]
  },
  {
   "cell_type": "markdown",
   "metadata": {},
   "source": [
    "Sanity check: Doing the inversion transformation to check if the information is preserved"
   ]
  },
  {
   "cell_type": "code",
   "execution_count": 139,
   "metadata": {},
   "outputs": [],
   "source": [
    "data_iohe = ohe.inverse_transform(data_ohe)"
   ]
  },
  {
   "cell_type": "code",
   "execution_count": 140,
   "metadata": {},
   "outputs": [],
   "source": [
    "data_iohe = pd.DataFrame(ohe.inverse_transform(data_ohe),\n",
    "                         columns= data2.drop('price', axis = 1).columns, index = data2.index)"
   ]
  },
  {
   "cell_type": "code",
   "execution_count": 116,
   "metadata": {},
   "outputs": [
    {
     "data": {
      "text/html": [
       "<div>\n",
       "<style scoped>\n",
       "    .dataframe tbody tr th:only-of-type {\n",
       "        vertical-align: middle;\n",
       "    }\n",
       "\n",
       "    .dataframe tbody tr th {\n",
       "        vertical-align: top;\n",
       "    }\n",
       "\n",
       "    .dataframe thead th {\n",
       "        text-align: right;\n",
       "    }\n",
       "</style>\n",
       "<table border=\"1\" class=\"dataframe\">\n",
       "  <thead>\n",
       "    <tr style=\"text-align: right;\">\n",
       "      <th></th>\n",
       "      <th>make</th>\n",
       "      <th>aspiration</th>\n",
       "      <th>num-of-doors</th>\n",
       "      <th>normalized-losses</th>\n",
       "      <th>body-style</th>\n",
       "      <th>num-of-cylinders</th>\n",
       "      <th>horsepower</th>\n",
       "      <th>city-mpg</th>\n",
       "      <th>highway-mpg</th>\n",
       "      <th>fuel-system</th>\n",
       "      <th>engine-type</th>\n",
       "      <th>drive-wheels</th>\n",
       "      <th>fuel-type</th>\n",
       "    </tr>\n",
       "  </thead>\n",
       "  <tbody>\n",
       "    <tr>\n",
       "      <th>3</th>\n",
       "      <td>audi</td>\n",
       "      <td>std</td>\n",
       "      <td>four</td>\n",
       "      <td>164</td>\n",
       "      <td>sedan</td>\n",
       "      <td>4</td>\n",
       "      <td>102</td>\n",
       "      <td>24</td>\n",
       "      <td>30</td>\n",
       "      <td>mpfi</td>\n",
       "      <td>ohc</td>\n",
       "      <td>fwd</td>\n",
       "      <td>gas</td>\n",
       "    </tr>\n",
       "    <tr>\n",
       "      <th>4</th>\n",
       "      <td>audi</td>\n",
       "      <td>std</td>\n",
       "      <td>four</td>\n",
       "      <td>164</td>\n",
       "      <td>sedan</td>\n",
       "      <td>5</td>\n",
       "      <td>115</td>\n",
       "      <td>18</td>\n",
       "      <td>22</td>\n",
       "      <td>mpfi</td>\n",
       "      <td>ohc</td>\n",
       "      <td>4wd</td>\n",
       "      <td>gas</td>\n",
       "    </tr>\n",
       "    <tr>\n",
       "      <th>6</th>\n",
       "      <td>audi</td>\n",
       "      <td>std</td>\n",
       "      <td>four</td>\n",
       "      <td>158</td>\n",
       "      <td>sedan</td>\n",
       "      <td>5</td>\n",
       "      <td>110</td>\n",
       "      <td>19</td>\n",
       "      <td>25</td>\n",
       "      <td>mpfi</td>\n",
       "      <td>ohc</td>\n",
       "      <td>fwd</td>\n",
       "      <td>gas</td>\n",
       "    </tr>\n",
       "    <tr>\n",
       "      <th>8</th>\n",
       "      <td>audi</td>\n",
       "      <td>turbo</td>\n",
       "      <td>four</td>\n",
       "      <td>158</td>\n",
       "      <td>sedan</td>\n",
       "      <td>5</td>\n",
       "      <td>140</td>\n",
       "      <td>17</td>\n",
       "      <td>20</td>\n",
       "      <td>mpfi</td>\n",
       "      <td>ohc</td>\n",
       "      <td>fwd</td>\n",
       "      <td>gas</td>\n",
       "    </tr>\n",
       "    <tr>\n",
       "      <th>10</th>\n",
       "      <td>bmw</td>\n",
       "      <td>std</td>\n",
       "      <td>two</td>\n",
       "      <td>192</td>\n",
       "      <td>sedan</td>\n",
       "      <td>4</td>\n",
       "      <td>101</td>\n",
       "      <td>23</td>\n",
       "      <td>29</td>\n",
       "      <td>mpfi</td>\n",
       "      <td>ohc</td>\n",
       "      <td>rwd</td>\n",
       "      <td>gas</td>\n",
       "    </tr>\n",
       "  </tbody>\n",
       "</table>\n",
       "</div>"
      ],
      "text/plain": [
       "    make aspiration num-of-doors normalized-losses body-style  \\\n",
       "3   audi        std         four               164      sedan   \n",
       "4   audi        std         four               164      sedan   \n",
       "6   audi        std         four               158      sedan   \n",
       "8   audi      turbo         four               158      sedan   \n",
       "10   bmw        std          two               192      sedan   \n",
       "\n",
       "   num-of-cylinders horsepower city-mpg highway-mpg fuel-system engine-type  \\\n",
       "3                 4        102       24          30        mpfi         ohc   \n",
       "4                 5        115       18          22        mpfi         ohc   \n",
       "6                 5        110       19          25        mpfi         ohc   \n",
       "8                 5        140       17          20        mpfi         ohc   \n",
       "10                4        101       23          29        mpfi         ohc   \n",
       "\n",
       "   drive-wheels fuel-type  \n",
       "3           fwd       gas  \n",
       "4           4wd       gas  \n",
       "6           fwd       gas  \n",
       "8           fwd       gas  \n",
       "10          rwd       gas  "
      ]
     },
     "execution_count": 116,
     "metadata": {},
     "output_type": "execute_result"
    }
   ],
   "source": [
    "data_iohe.head()"
   ]
  },
  {
   "cell_type": "code",
   "execution_count": 117,
   "metadata": {
    "scrolled": true
   },
   "outputs": [
    {
     "data": {
      "text/html": [
       "<div>\n",
       "<style scoped>\n",
       "    .dataframe tbody tr th:only-of-type {\n",
       "        vertical-align: middle;\n",
       "    }\n",
       "\n",
       "    .dataframe tbody tr th {\n",
       "        vertical-align: top;\n",
       "    }\n",
       "\n",
       "    .dataframe thead th {\n",
       "        text-align: right;\n",
       "    }\n",
       "</style>\n",
       "<table border=\"1\" class=\"dataframe\">\n",
       "  <thead>\n",
       "    <tr style=\"text-align: right;\">\n",
       "      <th></th>\n",
       "      <th>make</th>\n",
       "      <th>aspiration</th>\n",
       "      <th>num-of-doors</th>\n",
       "      <th>normalized-losses</th>\n",
       "      <th>body-style</th>\n",
       "      <th>num-of-cylinders</th>\n",
       "      <th>horsepower</th>\n",
       "      <th>city-mpg</th>\n",
       "      <th>highway-mpg</th>\n",
       "      <th>price</th>\n",
       "      <th>fuel-system</th>\n",
       "      <th>engine-type</th>\n",
       "      <th>drive-wheels</th>\n",
       "      <th>fuel-type</th>\n",
       "    </tr>\n",
       "  </thead>\n",
       "  <tbody>\n",
       "    <tr>\n",
       "      <th>3</th>\n",
       "      <td>audi</td>\n",
       "      <td>std</td>\n",
       "      <td>four</td>\n",
       "      <td>164.0</td>\n",
       "      <td>sedan</td>\n",
       "      <td>4</td>\n",
       "      <td>102.0</td>\n",
       "      <td>24</td>\n",
       "      <td>30</td>\n",
       "      <td>13950.0</td>\n",
       "      <td>mpfi</td>\n",
       "      <td>ohc</td>\n",
       "      <td>fwd</td>\n",
       "      <td>gas</td>\n",
       "    </tr>\n",
       "    <tr>\n",
       "      <th>4</th>\n",
       "      <td>audi</td>\n",
       "      <td>std</td>\n",
       "      <td>four</td>\n",
       "      <td>164.0</td>\n",
       "      <td>sedan</td>\n",
       "      <td>5</td>\n",
       "      <td>115.0</td>\n",
       "      <td>18</td>\n",
       "      <td>22</td>\n",
       "      <td>17450.0</td>\n",
       "      <td>mpfi</td>\n",
       "      <td>ohc</td>\n",
       "      <td>4wd</td>\n",
       "      <td>gas</td>\n",
       "    </tr>\n",
       "    <tr>\n",
       "      <th>6</th>\n",
       "      <td>audi</td>\n",
       "      <td>std</td>\n",
       "      <td>four</td>\n",
       "      <td>158.0</td>\n",
       "      <td>sedan</td>\n",
       "      <td>5</td>\n",
       "      <td>110.0</td>\n",
       "      <td>19</td>\n",
       "      <td>25</td>\n",
       "      <td>17710.0</td>\n",
       "      <td>mpfi</td>\n",
       "      <td>ohc</td>\n",
       "      <td>fwd</td>\n",
       "      <td>gas</td>\n",
       "    </tr>\n",
       "    <tr>\n",
       "      <th>8</th>\n",
       "      <td>audi</td>\n",
       "      <td>turbo</td>\n",
       "      <td>four</td>\n",
       "      <td>158.0</td>\n",
       "      <td>sedan</td>\n",
       "      <td>5</td>\n",
       "      <td>140.0</td>\n",
       "      <td>17</td>\n",
       "      <td>20</td>\n",
       "      <td>23875.0</td>\n",
       "      <td>mpfi</td>\n",
       "      <td>ohc</td>\n",
       "      <td>fwd</td>\n",
       "      <td>gas</td>\n",
       "    </tr>\n",
       "    <tr>\n",
       "      <th>10</th>\n",
       "      <td>bmw</td>\n",
       "      <td>std</td>\n",
       "      <td>two</td>\n",
       "      <td>192.0</td>\n",
       "      <td>sedan</td>\n",
       "      <td>4</td>\n",
       "      <td>101.0</td>\n",
       "      <td>23</td>\n",
       "      <td>29</td>\n",
       "      <td>16430.0</td>\n",
       "      <td>mpfi</td>\n",
       "      <td>ohc</td>\n",
       "      <td>rwd</td>\n",
       "      <td>gas</td>\n",
       "    </tr>\n",
       "  </tbody>\n",
       "</table>\n",
       "</div>"
      ],
      "text/plain": [
       "    make aspiration num-of-doors  normalized-losses body-style  \\\n",
       "3   audi        std         four              164.0      sedan   \n",
       "4   audi        std         four              164.0      sedan   \n",
       "6   audi        std         four              158.0      sedan   \n",
       "8   audi      turbo         four              158.0      sedan   \n",
       "10   bmw        std          two              192.0      sedan   \n",
       "\n",
       "    num-of-cylinders  horsepower  city-mpg  highway-mpg    price fuel-system  \\\n",
       "3                  4       102.0        24           30  13950.0        mpfi   \n",
       "4                  5       115.0        18           22  17450.0        mpfi   \n",
       "6                  5       110.0        19           25  17710.0        mpfi   \n",
       "8                  5       140.0        17           20  23875.0        mpfi   \n",
       "10                 4       101.0        23           29  16430.0        mpfi   \n",
       "\n",
       "   engine-type drive-wheels fuel-type  \n",
       "3          ohc          fwd       gas  \n",
       "4          ohc          4wd       gas  \n",
       "6          ohc          fwd       gas  \n",
       "8          ohc          fwd       gas  \n",
       "10         ohc          rwd       gas  "
      ]
     },
     "execution_count": 117,
     "metadata": {},
     "output_type": "execute_result"
    }
   ],
   "source": [
    "data2.head()"
   ]
  },
  {
   "cell_type": "markdown",
   "metadata": {},
   "source": [
    "Everything seems fine... Now to the model"
   ]
  },
  {
   "cell_type": "code",
   "execution_count": 141,
   "metadata": {},
   "outputs": [],
   "source": [
    "from xgboost import XGBRegressor"
   ]
  },
  {
   "cell_type": "code",
   "execution_count": 183,
   "metadata": {},
   "outputs": [],
   "source": [
    "reg = XGBRegressor(random_state = 42, max_depth=2)"
   ]
  },
  {
   "cell_type": "markdown",
   "metadata": {},
   "source": [
    "RANSAC Regressor seems a good choice as it deals very well with outliers."
   ]
  },
  {
   "cell_type": "code",
   "execution_count": 184,
   "metadata": {},
   "outputs": [],
   "source": [
    "from sklearn.model_selection import train_test_split"
   ]
  },
  {
   "cell_type": "code",
   "execution_count": 190,
   "metadata": {},
   "outputs": [],
   "source": [
    "x_train, x_test, y_train, y_test = train_test_split(data_ohe, data2[['price']], test_size = 0.2, random_state = 42)"
   ]
  },
  {
   "cell_type": "code",
   "execution_count": 191,
   "metadata": {},
   "outputs": [
    {
     "data": {
      "text/plain": [
       "XGBRegressor(base_score=0.5, booster='gbtree', colsample_bylevel=1,\n",
       "       colsample_bytree=1, gamma=0, learning_rate=0.1, max_delta_step=0,\n",
       "       max_depth=2, min_child_weight=1, missing=None, n_estimators=100,\n",
       "       n_jobs=1, nthread=None, objective='reg:linear', random_state=42,\n",
       "       reg_alpha=0, reg_lambda=1, scale_pos_weight=1, seed=None,\n",
       "       silent=True, subsample=1)"
      ]
     },
     "execution_count": 191,
     "metadata": {},
     "output_type": "execute_result"
    }
   ],
   "source": [
    "reg.fit(x_train, y_train)"
   ]
  },
  {
   "cell_type": "code",
   "execution_count": 192,
   "metadata": {},
   "outputs": [],
   "source": [
    "from sklearn.metrics import mean_squared_error"
   ]
  },
  {
   "cell_type": "code",
   "execution_count": 193,
   "metadata": {},
   "outputs": [],
   "source": [
    "pred =  reg.predict(x_test)"
   ]
  },
  {
   "cell_type": "code",
   "execution_count": 194,
   "metadata": {},
   "outputs": [
    {
     "data": {
      "text/plain": [
       "2054.23649980579"
      ]
     },
     "execution_count": 194,
     "metadata": {},
     "output_type": "execute_result"
    }
   ],
   "source": [
    "np.sqrt(mean_squared_error(y_test, pred))"
   ]
  },
  {
   "cell_type": "code",
   "execution_count": 70,
   "metadata": {},
   "outputs": [],
   "source": [
    "import matplotlib.pyplot as plt"
   ]
  },
  {
   "cell_type": "code",
   "execution_count": 47,
   "metadata": {},
   "outputs": [],
   "source": [
    "import seaborn as sns"
   ]
  },
  {
   "cell_type": "code",
   "execution_count": 78,
   "metadata": {},
   "outputs": [
    {
     "data": {
      "text/plain": [
       "<matplotlib.axes._subplots.AxesSubplot at 0x7f8c08c9a780>"
      ]
     },
     "execution_count": 78,
     "metadata": {},
     "output_type": "execute_result"
    },
    {
     "data": {
      "image/png": "[encoded data removed]",
      "text/plain": [
       "<Figure size 1080x720 with 1 Axes>"
      ]
     },
     "metadata": {
      "needs_background": "light"
     },
     "output_type": "display_data"
    }
   ],
   "source": [
    "plt.figure(figsize = (15,10))\n",
    "sns.countplot( y = 'make', \n",
    "            data = data_clust, hue = 'cluster')"
   ]
  },
  {
   "cell_type": "code",
   "execution_count": 80,
   "metadata": {},
   "outputs": [
    {
     "data": {
      "text/plain": [
       "<matplotlib.axes._subplots.AxesSubplot at 0x7f8c08645c50>"
      ]
     },
     "execution_count": 80,
     "metadata": {},
     "output_type": "execute_result"
    },
    {
     "data": {
      "image/png": "[encoded data removed]",
      "text/plain": [
       "<Figure size 1080x720 with 1 Axes>"
      ]
     },
     "metadata": {
      "needs_background": "light"
     },
     "output_type": "display_data"
    }
   ],
   "source": [
    "plt.figure(figsize = (15,10))\n",
    "sns.boxplot(x = 'price', y = 'make', data = data)"
   ]
  }
 ],
 "metadata": {
  "kernelspec": {
   "display_name": "Python 3",
   "language": "python",
   "name": "python3"
  },
  "language_info": {
   "codemirror_mode": {
    "name": "ipython",
    "version": 3
   },
   "file_extension": ".py",
   "mimetype": "text/x-python",
   "name": "python",
   "nbconvert_exporter": "python",
   "pygments_lexer": "ipython3",
   "version": "3.6.6"
  }
 },
 "nbformat": 4,
 "nbformat_minor": 2
}
